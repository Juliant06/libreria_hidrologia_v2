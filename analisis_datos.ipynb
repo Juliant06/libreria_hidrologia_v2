{
 "cells": [
  {
   "cell_type": "code",
   "execution_count": 3,
   "metadata": {},
   "outputs": [],
   "source": [
    "import pandas as pd\n",
    "import numpy as np\n",
    "import matplotlib.pyplot as plt\n",
    "import funciones_hidrologicas as fh\n",
    "import seaborn as sns\n",
    "import os"
   ]
  },
  {
   "cell_type": "code",
   "execution_count": 4,
   "metadata": {},
   "outputs": [
    {
     "name": "stdout",
     "output_type": "stream",
     "text": [
      "The autoreload extension is already loaded. To reload it, use:\n",
      "  %reload_ext autoreload\n"
     ]
    }
   ],
   "source": [
    "%load_ext autoreload\n",
    "%autoreload 2"
   ]
  },
  {
   "cell_type": "code",
   "execution_count": null,
   "metadata": {},
   "outputs": [],
   "source": [
    "# Lectura de datos csv\n",
    "df = pd.read_csv('Precipitaci_n_20241116.csv',\n",
    "                index_col='FechaObservacion',)\n",
    "\n",
    "estaciones = df['CodigoEstacion'].unique()\n",
    "\n",
    "dic_dfs = {}\n",
    "\n",
    "for estacion in estaciones:\n",
    "    df_estacion = df[df['CodigoEstacion'] == estacion]\n",
    "    df_estacion.index = pd.to_datetime(df_estacion.index)\n",
    "    df_estacion = df_estacion.sort_index()\n",
    "\n",
    "    df_estacion.to_csv(f'{estacion}.csv')"
   ]
  },
  {
   "cell_type": "markdown",
   "metadata": {},
   "source": [
    "# Analisis de consistencia de los datos\n",
    "Para ello se busca extraer de cadad csv el numero de datos faltantes y la longitud temporal de los datos"
   ]
  },
  {
   "cell_type": "code",
   "execution_count": 5,
   "metadata": {},
   "outputs": [],
   "source": [
    "def files(path):\n",
    "    archivos = os.listdir(path)\n",
    "    archivos_leer = [os.path.join(path,archivo) for archivo in archivos]\n",
    "\n",
    "    return archivos_leer"
   ]
  },
  {
   "cell_type": "code",
   "execution_count": null,
   "metadata": {},
   "outputs": [],
   "source": [
    "archivos = files(r'G:\\Mi unidad\\HME\\codigo\\datos')\n"
   ]
  },
  {
   "cell_type": "code",
   "execution_count": 4,
   "metadata": {},
   "outputs": [
    {
     "ename": "NameError",
     "evalue": "name 'archivos' is not defined",
     "output_type": "error",
     "traceback": [
      "\u001b[1;31m---------------------------------------------------------------------------\u001b[0m",
      "\u001b[1;31mNameError\u001b[0m                                 Traceback (most recent call last)",
      "Cell \u001b[1;32mIn[4], line 4\u001b[0m\n\u001b[0;32m      2\u001b[0m path_guardado \u001b[38;5;241m=\u001b[39m \u001b[38;5;124mr\u001b[39m\u001b[38;5;124m'\u001b[39m\u001b[38;5;124mG:\u001b[39m\u001b[38;5;124m\\\u001b[39m\u001b[38;5;124mMi unidad\u001b[39m\u001b[38;5;124m\\\u001b[39m\u001b[38;5;124mHME\u001b[39m\u001b[38;5;124m\\\u001b[39m\u001b[38;5;124mcodigo\u001b[39m\u001b[38;5;124m\\\u001b[39m\u001b[38;5;124mvectores_lluvia\u001b[39m\u001b[38;5;124m'\u001b[39m\n\u001b[0;32m      3\u001b[0m dic_datos \u001b[38;5;241m=\u001b[39m {}\n\u001b[1;32m----> 4\u001b[0m \u001b[38;5;28;01mfor\u001b[39;00m archivo \u001b[38;5;129;01min\u001b[39;00m \u001b[43marchivos\u001b[49m:\n\u001b[0;32m      5\u001b[0m \n\u001b[0;32m      6\u001b[0m     \u001b[38;5;66;03m# Donde se almacenan los datos de cada dataframe\u001b[39;00m\n\u001b[0;32m      7\u001b[0m     datos \u001b[38;5;241m=\u001b[39m []\n\u001b[0;32m      8\u001b[0m     \u001b[38;5;66;03m# Se lee el dataframe\u001b[39;00m\n",
      "\u001b[1;31mNameError\u001b[0m: name 'archivos' is not defined"
     ]
    }
   ],
   "source": [
    "# Extraccion de informacion y arreglo de datos\n",
    "path_guardado = r'G:\\Mi unidad\\HME\\codigo\\vectores_lluvia'\n",
    "dic_datos = {}\n",
    "for archivo in archivos:\n",
    "\n",
    "    # Donde se almacenan los datos de cada dataframe\n",
    "    datos = []\n",
    "    # Se lee el dataframe\n",
    "    df = pd.read_csv(archivo,index_col='FechaObservacion')\n",
    "    # Arreglo de datos en formato datetime\n",
    "    df.index = pd.to_datetime(df.index) \n",
    "    # Se extrae el codigo \n",
    "    cod = df['CodigoEstacion'].unique()[0]\n",
    "    datos.append(df['CodigoEstacion'].unique()[0])\n",
    "    datos.append(df['ZonaHidrografica'].unique()[0])\n",
    "    datos.append(df['Latitud'].unique()[0])\n",
    "    datos.append(df['Longitud'].unique()[0])\n",
    "    # Se almacenan los datos en el diccionario\n",
    "    dic_datos[cod] = datos\n",
    "    # Extraccion de datos en vector\n",
    "    df_vector = df[['ValorObservado']]\n",
    "\n",
    "    nombre = archivo.split('\\\\')[-1]\n",
    "    nombre_archivo = os.path.join(path_guardado,nombre)\n",
    "\n",
    "    df_vector.to_csv(nombre_archivo)"
   ]
  },
  {
   "cell_type": "code",
   "execution_count": 3,
   "metadata": {},
   "outputs": [],
   "source": [
    "def llenar_na(df,freq):\n",
    "    # Seleccion de fechas\n",
    "    fecha_inicio = df.index[0]\n",
    "    fecha_final = df.index[-1]\n",
    "    # Generacion lista con fecha\n",
    "    rango_fechas = pd.date_range(fecha_inicio,fecha_final,freq=freq)\n",
    "    # re-index de datos \n",
    "    df = df.reindex(rango_fechas)\n",
    "\n",
    "    return df"
   ]
  },
  {
   "cell_type": "code",
   "execution_count": 95,
   "metadata": {},
   "outputs": [],
   "source": [
    "path = r'G:\\Mi unidad\\HME\\codigo\\vectores_lluvia'\n",
    "vectores = files(path)"
   ]
  },
  {
   "cell_type": "code",
   "execution_count": 115,
   "metadata": {},
   "outputs": [],
   "source": [
    "faltantes = {}\n",
    "for vector in vectores:\n",
    "\n",
    "    # Crea lista vacia\n",
    "    datos = []\n",
    "    df = pd.read_csv(vector,index_col='FechaObservacion')\n",
    "    df.index = pd.to_datetime(df.index)\n",
    "    df1 = df[~df.index.duplicated(keep='first')]\n",
    "    # Se rellenan los espacios vacios con NAN\n",
    "    df_lleno = llenar_na(df1,'10min')\n",
    "    # Se extrae la fecha inicial y final\n",
    "    fecha_inicial = df.index[0]\n",
    "    fecha_final = df.index[-1]\n",
    "    num_faltantes = df_lleno.isna().sum().values[0]\n",
    "    pctg_faltantes = np.around(num_faltantes/len(df_lleno),2)\n",
    "    # Almacenamiento datos\n",
    "    datos.append(fecha_inicial)\n",
    "    datos.append(fecha_final)\n",
    "    datos.append(pctg_faltantes )\n",
    "    datos.append(len(df_lleno))\n",
    "    nombre = vector.split('\\\\')[-1].split('.')[0]\n",
    "    faltantes[nombre] = datos\n",
    "\n"
   ]
  },
  {
   "cell_type": "code",
   "execution_count": 15,
   "metadata": {},
   "outputs": [],
   "source": [
    "## Generacion del algoritmo de extraccion de tormentas\n",
    "path = r'G:\\Mi unidad\\HME\\codigo\\vectores_lluvia\\27015290.csv'\n",
    "df_prueba = pd.read_csv(path,index_col='FechaObservacion')\n",
    "df_prueba.index = pd.to_datetime(df_prueba.index)"
   ]
  },
  {
   "cell_type": "code",
   "execution_count": 18,
   "metadata": {},
   "outputs": [
    {
     "data": {
      "text/plain": [
       "'ValorObservado'"
      ]
     },
     "execution_count": 18,
     "metadata": {},
     "output_type": "execute_result"
    }
   ],
   "source": [
    "df_prueba.columns[0]"
   ]
  },
  {
   "cell_type": "markdown",
   "metadata": {},
   "source": [
    "## Funcion de extraccion de tormentas"
   ]
  },
  {
   "cell_type": "code",
   "execution_count": 18,
   "metadata": {},
   "outputs": [],
   "source": [
    "def tormentas(df:pd.DataFrame, mit:int)->pd.DataFrame:\n",
    "\n",
    "    # Importante: El dataframe debe ser solo el indice en formato datetime\n",
    "    # y el valor de la precipitacion.\n",
    "    # El codigo te regresa el dataframe inicial \n",
    "    # Con una columna nueva con un identificador numerico, que identifica el evento de precipitacion.\n",
    "\n",
    "    # Identifica la columna que contiene laprecipitacion = df.columns[0]\n",
    "    precipitacion = df.columns[0]\n",
    "    # Definir el umbral de tiempo (número de ceros consecutivos que delimitan tormentas)\n",
    "    # se divide por 15 dado que es el diferencial de tiempo de epm\n",
    "    # Se debe programar mejor para que tome cualquier evento\n",
    "    umbral_ceros = mit/15\n",
    "\n",
    "    # Inicializar variables\n",
    "    evento_id = 0\n",
    "    en_evento = False\n",
    "    eventos = []\n",
    "\n",
    "    # Iterar sobre la serie de tiempo\n",
    "    for i, lluvia in enumerate(df[precipitacion]):\n",
    "        if lluvia > 0:\n",
    "            if not en_evento:  # Iniciar un nuevo evento\n",
    "                evento_id += 1\n",
    "                en_evento = True\n",
    "            eventos.append(evento_id)  # Asignar el evento actual\n",
    "        else:\n",
    "            # Verificar si hay suficientes ceros consecutivos después de un valor > 0\n",
    "            conteo_ceros = 1\n",
    "            for j in range(i + 1, len(df[precipitacion])):\n",
    "                if df[precipitacion].iloc[j] == 0:\n",
    "                    conteo_ceros += 1\n",
    "                else:\n",
    "                    break\n",
    "            # Si los ceros consecutivos superan el umbral, terminar el evento\n",
    "            if conteo_ceros >= umbral_ceros:\n",
    "                en_evento = False\n",
    "            eventos.append(evento_id if en_evento else 0)\n",
    "\n",
    "    df['Evento'] = eventos\n",
    "\n",
    "    # Mostrar el DataFrame con eventos identificados\n",
    "    return df\n"
   ]
  },
  {
   "cell_type": "code",
   "execution_count": 5,
   "metadata": {},
   "outputs": [],
   "source": [
    "path = r'G:\\Mi unidad\\HME\\codigo\\datos_epm'\n",
    "archivos = files(path)"
   ]
  },
  {
   "cell_type": "code",
   "execution_count": null,
   "metadata": {},
   "outputs": [],
   "source": [
    "path_guardado = r'G:\\Mi unidad\\HME\\codigo\\datos_epm_csv'\n",
    "for archivo in archivos:\n",
    "\n",
    "    # Columnas encontradas en el archivo\n",
    "    column_names = ['ID', 'variable', 'fecha', 'Time', 'valor', 'calidad']\n",
    "\n",
    "    # Se lee el dataframe\n",
    "    df = pd.read_csv(archivo, sep='\\s+', header=None, \n",
    "                     names=column_names,\n",
    "                     dtype={'Time': str})\n",
    "\n",
    "    # Arreglo de la fecha\n",
    "    df['fecha'] = [str(x) for x in df['fecha']]\n",
    "    df['Fecha'] = df['fecha'] + ' ' + df['Time']\n",
    "    df['Fecha'] = pd.to_datetime(df['Fecha'])\n",
    "    df.drop(columns=['fecha'],axis=1,inplace=True)\n",
    "\n",
    "    nombre = archivo.split('\\\\')[-1].split('.')[0]\n",
    "    nombre_guardado = os.path.join(path_guardado,nombre+'.csv')\n",
    "\n",
    "    df.to_csv(nombre_guardado)\n"
   ]
  },
  {
   "cell_type": "markdown",
   "metadata": {},
   "source": [
    "# Análisis Exploratorio de los datos\n",
    "En este apartado se busca revisar el estado de las series para ello se proponen los siguientes puntos:\n",
    "- Revisión de consistencia y continuidad número de faltantes\n",
    "- Asignación de fases RMM y ONI a cada serie (lista)\n",
    "- Ciclos anuales de las estaciones por fases ENSO \n",
    "- Series de tiempo diarias por fase ENSO y fase RMM"
   ]
  },
  {
   "cell_type": "markdown",
   "metadata": {},
   "source": [
    "## Asignacion fases RMM y ONI"
   ]
  },
  {
   "cell_type": "code",
   "execution_count": 6,
   "metadata": {},
   "outputs": [],
   "source": [
    "path = r'G:\\Mi unidad\\HME\\codigo\\datos_epm_csv'\n",
    "archivos_epm = files(path)"
   ]
  },
  {
   "cell_type": "code",
   "execution_count": 7,
   "metadata": {},
   "outputs": [],
   "source": [
    "# Lectura de datos del rmm\n",
    "rmm = pd.read_csv('indice_rmm.csv',\n",
    "                  usecols=['fecha','phase','amplitude'],\n",
    "                  index_col='fecha',\n",
    "                  parse_dates=['fecha'])"
   ]
  },
  {
   "cell_type": "code",
   "execution_count": 8,
   "metadata": {},
   "outputs": [],
   "source": [
    "# Lectura datos ONI\n",
    "df_oni = pd.read_csv('oni_final.csv', index_col='Fecha',\n",
    "                     parse_dates=['Fecha'])\n",
    "df_oni_rename = df_oni.rename(columns={'ONI':'oni'})"
   ]
  },
  {
   "cell_type": "code",
   "execution_count": 9,
   "metadata": {},
   "outputs": [],
   "source": [
    "# Clasificación ENSO basada en persistencia de 5 meses\n",
    "def classify_enso_with_persistence(df):\n",
    "    df['enso_phase'] = 'neutro'  # Inicializamos con \"Neutral\"\n",
    "    for i in range(len(df) - 4):\n",
    "        # Tomamos una ventana de 5 meses consecutivos\n",
    "        window = df['oni'].iloc[i:i+5]\n",
    "        if all(window >= 0.5):\n",
    "            df.iloc[i:i+4, 1] = 'niño'\n",
    "        elif all(window <= -0.5):\n",
    "            df.iloc[i:i+4, 1] = 'niña'\n",
    "    return df\n",
    "\n",
    "\n",
    "# Unir los datos diarios con las fases ENSO\n",
    "def clasificar_enso(df_oni,df_precip):\n",
    "    df_precip['month'] = df_precip.index.to_period('M')\n",
    "    df_oni['month'] = df_oni.index.to_period('M')\n",
    "    df_merged = pd.merge(df_precip, df_oni, on='month', how='left')\n",
    "    df_merged.index = df_precip.index\n",
    "\n",
    "    return df_merged[['valor','enso_phase']]\n",
    "\n",
    "def etiqueta_quinceminutal(df_quince,df_diario):\n",
    "        \n",
    "    df_quince['enso_phase'] = df_quince.index.normalize().map(df_diario['enso_phase'])\n",
    "    df_quince['phase'] = df_quince.index.normalize().map(df_diario['phase'])\n",
    "    df_quince['amplitude'] = df_quince.index.normalize().map(df_diario['amplitude'])\n",
    "\n",
    "    return df_quince\n",
    "\n",
    "def clasificacion_rmm(df_rmm,df_pptn):\n",
    "\n",
    "    # Seleccion de fechas del dataframe\n",
    "    fechas = df_pptn.index\n",
    "    # se filtran los datos del rmm con las fechas\n",
    "    # del dataframe de precipitacion\n",
    "    fase_amplitud = df_rmm[df_rmm.index.isin(fechas)]\n",
    "    # Se unen los dataframes\n",
    "    df_merge = pd.concat([df_pptn,fase_amplitud],axis=1)\n",
    "\n",
    "    return df_merge\n"
   ]
  },
  {
   "cell_type": "code",
   "execution_count": 73,
   "metadata": {},
   "outputs": [],
   "source": [
    "# Clasifica el ENSO\n",
    "df_oni_class = classify_enso_with_persistence(df_oni_rename)\n",
    "path_guardado = r'G:\\Mi unidad\\HME\\codigo\\datos_epm_etiquetados'\n",
    "\n",
    "for idx,archivo in enumerate(archivos_epm):\n",
    "\n",
    "    # Lectura de datos\n",
    "    df_epm = pd.read_csv(archivo,\n",
    "                        index_col='Fecha',\n",
    "                        parse_dates=['Fecha'],\n",
    "                        usecols=['valor','Fecha'])\n",
    "    # Resample de datos\n",
    "    df_epm_res = df_epm.resample('D').sum()\n",
    "    # Etiqueta los datos con el ENSO\n",
    "    df_epm_enso = clasificar_enso(df_oni_class,df_epm_res)\n",
    "    #Clasificacion RMM en dataframe proveniente del ENSO\n",
    "    df_epm_rmm = clasificacion_rmm(rmm,df_epm_enso)\n",
    "    # Etiquetado quinceminutal\n",
    "    df_epm_etiquetado = etiqueta_quinceminutal(df_epm,df_epm_rmm)\n",
    "    # Se guardan los datos\n",
    "    nombre = archivo.split('\\\\')[-1]\n",
    "    nombre_guardado = os.path.join(path_guardado,nombre)\n",
    "    df_epm_etiquetado.to_csv(nombre_guardado)"
   ]
  },
  {
   "cell_type": "markdown",
   "metadata": {},
   "source": [
    "## Figuras\n",
    "Se generan figuras del ciclo anual, ciclo diurno y serie de tiempo"
   ]
  },
  {
   "cell_type": "code",
   "execution_count": 101,
   "metadata": {},
   "outputs": [],
   "source": [
    "def ciclo_anual_plot(df_epm_etiquetado:pd.DataFrame,\n",
    "                     estacion:str,\n",
    "                     path_guardado):\n",
    "    \n",
    "    # Selecciona las fases del ENSO\n",
    "    nina = df_epm_etiquetado[df_epm_etiquetado['enso_phase']=='niña']\n",
    "    nino = df_epm_etiquetado[df_epm_etiquetado['enso_phase']=='niño']\n",
    "    neutro = df_epm_etiquetado[df_epm_etiquetado['enso_phase']=='neutro']\n",
    "\n",
    "    ## Estima el Ciclo anual por fase ENSO\n",
    "    plt.figure(figsize=(12, 6))\n",
    "    nina_ciclo_anual = fh.ciclo_anual(nina[['valor']],\n",
    "                                      umbral=0.1,\n",
    "                                      freq='15min')\n",
    "    nino_ciclo_anual = fh.ciclo_anual(nino[['valor']],\n",
    "                                      umbral=0.1,\n",
    "                                      freq='15min')\n",
    "    neutro_ciclo_anual = fh.ciclo_anual(neutro[['valor']],\n",
    "                                        umbral=0.1,\n",
    "                                        freq='15min')\n",
    "\n",
    "    meses = [\"Ene\", \"Feb\", \n",
    "             \"Mar\", \"Abr\", \n",
    "             \"May\", \"Jun\", \n",
    "             \"Jul\", \"Ago\", \n",
    "             \"Sep\", \"Oct\", \n",
    "             \"Nov\", \"Dic\"]\n",
    "    \n",
    "    # Genera los grafico\n",
    "    plt.plot(nina_ciclo_anual,label='Niña',color='Blue')\n",
    "    plt.plot(nino_ciclo_anual,label='Niño',color='red')\n",
    "    plt.plot(neutro_ciclo_anual,label='Neutro',color='grey')\n",
    "    plt.title(f'Ciclo anual estación {estacion}',\n",
    "              fontsize=16, fontweight=\"bold\")\n",
    "    plt.ylabel('Precipitación[mm]',fontsize=14)\n",
    "\n",
    "    plt.xticks(ticks=range(1, 13), \n",
    "               labels=meses,\n",
    "               fontsize=12)\n",
    "    plt.grid()\n",
    "    plt.legend(fontsize=14)\n",
    "    plt.tight_layout()\n",
    "    plt.savefig(path_guardado)\n",
    "    plt.close()"
   ]
  },
  {
   "cell_type": "code",
   "execution_count": 42,
   "metadata": {},
   "outputs": [],
   "source": [
    "path = r'G:\\Mi unidad\\HME\\codigo\\datos_epm_etiquetados'\n",
    "archivos_epm = files(path)"
   ]
  },
  {
   "cell_type": "code",
   "execution_count": 102,
   "metadata": {},
   "outputs": [],
   "source": [
    "path_guardado = r'G:\\Mi unidad\\HME\\codigo\\figuras\\ciclo_anual'\n",
    "for archivo in archivos_epm:\n",
    "    nombre = archivo.split('\\\\')[-1].split('.')[0]\n",
    "\n",
    "    df_epm = pd.read_csv(archivo,\n",
    "                        index_col='Fecha',\n",
    "                        parse_dates=['Fecha'],)\n",
    "    \n",
    "    nombre_figura = nombre + '.png'\n",
    "    nombre_guardado = os.path.join(path_guardado,\n",
    "                                   nombre_figura)\n",
    "    \n",
    "    ciclo_anual_plot(df_epm,\n",
    "                     nombre,\n",
    "                     nombre_guardado)"
   ]
  },
  {
   "cell_type": "code",
   "execution_count": 10,
   "metadata": {},
   "outputs": [],
   "source": [
    "def serie_tiempo_rmm(df_epm_etiquetado:pd.DataFrame,\n",
    "                     estacion:str,\n",
    "                     path_guardado):\n",
    "    \n",
    "    # Arreglo de datos\n",
    "    df_epm_diario = df_epm_etiquetado.resample('D').sum()\n",
    "    df_etiquetado = clasificacion_rmm(rmm,df_epm_diario)\n",
    "    df_inactivo = df_etiquetado[df_etiquetado['amplitude']<1.0]\n",
    "    df_activo = df_etiquetado[df_etiquetado['amplitude']>=1.0]\n",
    "\n",
    "    plt.figure(figsize=(14, 7))\n",
    "\n",
    "    for i in range(9):\n",
    "\n",
    "\n",
    "        # Fase inactiva\n",
    "        if i == 0:\n",
    "            df_pptn_epm = llenar_na(df_inactivo,'D')\n",
    "\n",
    "        else:\n",
    "            df_activo = df_etiquetado[(df_etiquetado['amplitude']>=1.0) & (df_etiquetado['phase']==i)]\n",
    "            df_pptn_epm = llenar_na(df_activo,'D')\n",
    "\n",
    "        plt.plot(df_pptn_epm[['valor']],label=f'Fase {i}')\n",
    "\n",
    "\n",
    "    # Personalización del gráfico\n",
    "    plt.title(f\"Serie de Tiempo estación {estacion}\", \n",
    "              fontsize=16, fontweight=\"bold\")\n",
    "\n",
    "    plt.ylabel(\"Precipitación[mm]\", fontsize=14)\n",
    "    plt.xticks(fontsize=12)\n",
    "    plt.yticks(fontsize=12)\n",
    "    plt.legend(title=\"Fases MJO\", \n",
    "               fontsize=12, title_fontsize=14, \n",
    "               loc=\"upper right\", ncol=2)\n",
    "\n",
    "    plt.grid(alpha=0.5, linestyle=\"--\", color='black')\n",
    "    plt.tight_layout()\n",
    "    plt.savefig(path_guardado)\n",
    "    plt.close()\n"
   ]
  },
  {
   "cell_type": "code",
   "execution_count": 48,
   "metadata": {},
   "outputs": [],
   "source": [
    "path_guardado = r'G:\\Mi unidad\\HME\\codigo\\figuras\\serie_tiempo_rmm'\n",
    "\n",
    "for archivo in archivos_epm:\n",
    "    nombre = archivo.split('\\\\')[-1].split('.')[0]\n",
    "\n",
    "    df_epm = pd.read_csv(archivo,\n",
    "                        usecols=['Fecha','valor'],\n",
    "                        index_col='Fecha',\n",
    "                        parse_dates=['Fecha'],)\n",
    "    \n",
    "    nombre_figura = nombre + '.png'\n",
    "    nombre_guardado = os.path.join(path_guardado,\n",
    "                                   nombre_figura)\n",
    "    \n",
    "    serie_tiempo_rmm(df_epm,\n",
    "                     nombre,\n",
    "                     nombre_guardado)"
   ]
  },
  {
   "cell_type": "code",
   "execution_count": 14,
   "metadata": {},
   "outputs": [],
   "source": [
    "df_epm = pd.read_csv(archivos_epm[0],\n",
    "                        usecols=['Fecha','valor'],\n",
    "                        index_col='Fecha',\n",
    "                        parse_dates=['Fecha'],)"
   ]
  },
  {
   "cell_type": "code",
   "execution_count": 59,
   "metadata": {},
   "outputs": [],
   "source": [
    "## Revision de datos faltantes\n",
    "path_guardado = r'G:\\Mi unidad\\HME\\codigo\\figuras\\serie_tiempo'\n",
    "for file in archivos_epm:\n",
    "    df = pd.read_csv(file,\n",
    "               usecols=['Fecha','valor'],\n",
    "               index_col='Fecha',\n",
    "               parse_dates=['Fecha'],)\n",
    "    \n",
    "    df_epm_diario = df.resample('D').sum()\n",
    "    \n",
    "    nombre = file.split('\\\\')[-1].split('.')[0]\n",
    "    nombre_figura = nombre + '.png'\n",
    "    nombre_guardado = os.path.join(path_guardado,\n",
    "                                    nombre_figura)\n",
    "    \n",
    "\n",
    "    plt.figure(figsize=(14, 7))\n",
    "\n",
    "    plt.plot(df_epm_diario,\n",
    "             color='blue')\n",
    "    # Personalización del gráfico\n",
    "    plt.title(f\"Serie de Tiempo estación {nombre}\", \n",
    "              fontsize=16, fontweight=\"bold\")\n",
    "\n",
    "    plt.ylabel(\"Precipitación[mm]\", fontsize=14)\n",
    "    plt.xticks(fontsize=12)\n",
    "    plt.yticks(fontsize=12)\n",
    "\n",
    "\n",
    "    plt.grid(alpha=0.5, linestyle=\"--\", color='black')\n",
    "    plt.tight_layout()\n",
    "    plt.savefig(nombre_guardado)\n",
    "    plt.close()"
   ]
  },
  {
   "cell_type": "code",
   "execution_count": 11,
   "metadata": {},
   "outputs": [],
   "source": [
    "def serie_tiempo_enso(df_etiquetado:pd.DataFrame,\n",
    "                     estacion:str,\n",
    "                     path_guardado):\n",
    "    \n",
    "    df_nino = llenar_na(df_etiquetado[df_etiquetado['enso_phase'] == 'niño'],freq='D')\n",
    "    df_nina = llenar_na(df_etiquetado[df_etiquetado['enso_phase'] == 'niña'],freq='D')\n",
    "    df_neutro = llenar_na(df_etiquetado[df_etiquetado['enso_phase'] == 'neutro'],freq='D')\n",
    "\n",
    "    plt.figure(figsize=(14, 7))\n",
    "\n",
    "\n",
    "    plt.plot(df_nino[['valor']],\n",
    "             label=f'Niño',color ='red')\n",
    "    plt.plot(df_nina[['valor']],\n",
    "             label=f'Niña',color ='blue')\n",
    "    plt.plot(df_neutro[['valor']],\n",
    "             label=f'Neutro',color='grey')\n",
    "\n",
    "\n",
    "\n",
    "    # Personalización del gráfico\n",
    "    plt.title(f\"Serie de Tiempo estación {estacion}\", \n",
    "              fontsize=16, fontweight=\"bold\")\n",
    "\n",
    "    plt.ylabel(\"Precipitación[mm]\", fontsize=14)\n",
    "    plt.xticks(fontsize=12)\n",
    "    plt.yticks(fontsize=12)\n",
    "    plt.legend(title=\"Fases ENSO\", \n",
    "               fontsize=12, title_fontsize=14, \n",
    "               loc=\"upper right\", ncol=1)\n",
    "\n",
    "    plt.grid(alpha=0.5, linestyle=\"--\", color='black')\n",
    "    plt.tight_layout()\n",
    "    plt.savefig(path_guardado)\n",
    "    plt.close()"
   ]
  },
  {
   "cell_type": "code",
   "execution_count": 84,
   "metadata": {},
   "outputs": [],
   "source": [
    "path_guardado = r'G:\\Mi unidad\\HME\\codigo\\figuras\\serie_tiempo_oni'\n",
    "df_oni_class = classify_enso_with_persistence(df_oni_rename)\n",
    "for archivo in archivos_epm:\n",
    "    nombre = archivo.split('\\\\')[-1].split('.')[0]\n",
    "\n",
    "    df_epm = pd.read_csv(archivo,\n",
    "                        usecols=['Fecha','valor'],\n",
    "                        index_col='Fecha',\n",
    "                        parse_dates=['Fecha'],)\n",
    "    \n",
    "    df_epm_diario = df_epm.resample('D').sum()\n",
    "    df_etiquetado = clasificar_enso(df_oni_class ,df_epm_diario)\n",
    "\n",
    "    nombre_figura = nombre + '.png'\n",
    "    nombre_guardado = os.path.join(path_guardado,\n",
    "                                   nombre_figura)\n",
    "    \n",
    "    serie_tiempo_enso(df_etiquetado,\n",
    "                     nombre,\n",
    "                     nombre_guardado)"
   ]
  },
  {
   "cell_type": "markdown",
   "metadata": {},
   "source": [
    "### Analisis de consitencia de los datos\n",
    "Se corren test de homogeneidad y tendencias sobre los datos para mirar su comportamiento y calidad"
   ]
  },
  {
   "cell_type": "code",
   "execution_count": 12,
   "metadata": {},
   "outputs": [],
   "source": [
    "import homogeneidad as hm"
   ]
  },
  {
   "cell_type": "code",
   "execution_count": 13,
   "metadata": {},
   "outputs": [],
   "source": [
    "## Figuras homogeneidad\n",
    "def plot_pettit(df:pd.DataFrame,\n",
    "                resultados_pettit:tuple,\n",
    "                nombre:str,\n",
    "                path_guardado:str):\n",
    "\n",
    "    df_res = df.resample('YE').sum()\n",
    "    # Se eliminan anualidades con valores 0\n",
    "    df_res = df_res[df_res['valor']>0]\n",
    "    min_valor = df_res['valor'].min()\n",
    "\n",
    "    mn = df_res.index[0]\n",
    "    mx = df_res.index[-1]\n",
    "\n",
    "    change_point = resultados_pettit.cp\n",
    "    loc = df_res.index[change_point]\n",
    "    mu1 = resultados_pettit.avg.mu1\n",
    "    mu2 = resultados_pettit.avg.mu2\n",
    "    p_value = resultados_pettit.p\n",
    "\n",
    "    plt.figure(figsize=(14, 7))\n",
    "    plt.plot(df_res,color='blue')\n",
    "    plt.hlines(mu1, xmin=mn, xmax=loc, \n",
    "               linestyles='--', colors='orange',\n",
    "               lw=1.5, label='mu1 : ' + str(round(mu1,2)))\n",
    "\n",
    "    plt.hlines(mu2, xmin=loc, xmax=mx, \n",
    "               linestyles='--', colors='g', lw=1.5, \n",
    "               label='mu2 : ' + str(round(mu2,2)))\n",
    "\n",
    "    \n",
    "    plt.axvline(x=loc, linestyle='-.' , color='red', \n",
    "                lw=1.5, label='Change point : '+ loc.strftime('%Y-%m-%d') + '\\n p-value : ' + str(p_value))\n",
    "\n",
    "    plt.ylim(min_valor)\n",
    "    plt.grid()\n",
    "    plt.title(f'Estación {nombre}',\n",
    "              fontsize=16, weight='bold')\n",
    "    \n",
    "    plt.xlabel('Años',fontsize=14)\n",
    "    plt.ylabel('Precipitación[mm]',fontsize=14)\n",
    "\n",
    "    plt.xticks(fontsize=12)\n",
    "    plt.yticks(fontsize=12)\n",
    "    plt.legend(loc='upper right',fontsize=13)\n",
    "    plt.tight_layout()\n",
    "    plt.savefig(path_guardado)\n",
    "    plt.close()\n"
   ]
  },
  {
   "cell_type": "code",
   "execution_count": 14,
   "metadata": {},
   "outputs": [],
   "source": [
    "# Diccionarios vacios para almacenar los datos\n",
    "dic_mk: dict = dict()\n",
    "dic_pettit: dict = dict()\n",
    "path_guardado = r'G:\\Mi unidad\\HME\\codigo\\figuras\\figuras_homogeneidad'\n",
    "# Pruebas de homogeneidad\n",
    "for archivo in archivos_epm:\n",
    "    df_epm = pd.read_csv(archivo,\n",
    "                        usecols=['Fecha','valor'],\n",
    "                        index_col='Fecha',\n",
    "                        parse_dates=['Fecha'],)\n",
    "    # Aplicacion de las pruebas\n",
    "    resultados_mk = hm.mann_kendall(df_epm,'pptn')\n",
    "    resultados_pettit = hm.pettit(df_epm,'pptn')\n",
    "    # Nombre de las estaciones\n",
    "    nombre = archivo.split('\\\\')[-1].split('.')[0]\n",
    "\n",
    "    dic_mk[nombre] = resultados_mk\n",
    "    dic_pettit[nombre] = resultados_pettit\n",
    "\n",
    "    # Grafico de datos\n",
    "    resultados_pettit = dic_pettit[nombre] \n",
    "    nombre_figura = nombre + '.png'\n",
    "\n",
    "    nombre_guardado = os.path.join(path_guardado,\n",
    "                                    nombre_figura)\n",
    "    \n",
    "    plot_pettit(df_epm,\n",
    "                resultados_pettit,\n",
    "                nombre,nombre_guardado)"
   ]
  },
  {
   "cell_type": "markdown",
   "metadata": {},
   "source": [
    "## Extraccion de tormentas\n",
    "Para la extraccion de tormentas se planea utilizar MIT = [30,60,120,180,360] minutos. Para cada estacion se especifica el MIT utilizado y apartir de ello las identificacion de tormentas,"
   ]
  },
  {
   "cell_type": "code",
   "execution_count": 16,
   "metadata": {},
   "outputs": [],
   "source": [
    "# Lectura y arreglo de las estaciones a trabajar\n",
    "path = r'G:\\Mi unidad\\HME\\codigo\\datos_epm_csv'\n",
    "archivos_epm = files(path)"
   ]
  },
  {
   "cell_type": "code",
   "execution_count": 20,
   "metadata": {},
   "outputs": [
    {
     "name": "stdout",
     "output_type": "stream",
     "text": [
      "Vasconia\n",
      "360\n",
      "guardado completo estacion Vasconia\n",
      "Villa Hermosa\n",
      "360\n",
      "guardado completo estacion Villa Hermosa\n",
      "Santa Barbara\n",
      "360\n",
      "guardado completo estacion Santa Barbara\n",
      "San Pedro\n",
      "360\n",
      "guardado completo estacion San Pedro\n",
      "San Bernardo\n",
      "360\n",
      "guardado completo estacion San Bernardo\n",
      "San Cristobal\n",
      "360\n",
      "guardado completo estacion San Cristobal\n",
      "Pabon\n",
      "360\n",
      "guardado completo estacion Pabon\n",
      "Rionegro La Macarena\n",
      "360\n",
      "guardado completo estacion Rionegro La Macarena\n",
      "San Antonio de Prado\n",
      "360\n",
      "guardado completo estacion San Antonio de Prado\n",
      "Montañitas\n",
      "360\n",
      "guardado completo estacion Montañitas\n",
      "Miraflores\n",
      "360\n",
      "guardado completo estacion Miraflores\n",
      "Medina\n",
      "360\n",
      "guardado completo estacion Medina\n",
      "Mesopotamia\n",
      "360\n",
      "guardado completo estacion Mesopotamia\n",
      "Mazo\n",
      "360\n",
      "guardado completo estacion Mazo\n",
      "La Teresita\n",
      "360\n",
      "guardado completo estacion La Teresita\n",
      "La Severa\n",
      "360\n",
      "guardado completo estacion La Severa\n",
      "Las Palmas\n",
      "360\n",
      "guardado completo estacion Las Palmas\n",
      "La Palmera\n",
      "360\n",
      "guardado completo estacion La Palmera\n",
      "La Pladera\n",
      "360\n",
      "guardado completo estacion La Pladera\n",
      "Haiton\n",
      "360\n",
      "guardado completo estacion Haiton\n",
      "La Mosca\n",
      "360\n",
      "guardado completo estacion La Mosca\n",
      "El Pital\n",
      "360\n",
      "guardado completo estacion El Pital\n",
      "Fabricato\n",
      "360\n",
      "guardado completo estacion Fabricato\n",
      "El Sireno\n",
      "360\n",
      "guardado completo estacion El Sireno\n",
      "El Mango\n",
      "360\n",
      "guardado completo estacion El Mango\n",
      "El Gomez\n",
      "360\n",
      "guardado completo estacion El Gomez\n",
      "El Chaquiro\n",
      "360\n",
      "guardado completo estacion El Chaquiro\n",
      "El Bizcocho\n",
      "360\n",
      "guardado completo estacion El Bizcocho\n",
      "Corrientes\n",
      "360\n",
      "guardado completo estacion Corrientes\n",
      "Caldas\n",
      "360\n",
      "guardado completo estacion Caldas\n",
      "Chorrillos\n",
      "360\n",
      "guardado completo estacion Chorrillos\n",
      "Ayura\n",
      "360\n",
      "guardado completo estacion Ayura\n",
      "Aragon\n",
      "360\n",
      "guardado completo estacion Aragon\n",
      "Alto San Andres\n",
      "360\n",
      "guardado completo estacion Alto San Andres\n"
     ]
    }
   ],
   "source": [
    "# Loop principal de extraccion e identificacion de tormentas\n",
    "# Defincion de los mit = 30, 60, 120, 180 y 360 minutos\n",
    "# se ingresa\n",
    "mit = [360]\n",
    "# Carpeta madre donde se almacenan las tormentas\n",
    "path_guardado = r'G:\\Mi unidad\\HME\\codigo\\tormentas'\n",
    "for archivo in archivos_epm:\n",
    "\n",
    "    #Extrae el nombre de la estacion\n",
    "    nombre_estacion = archivo.split('\\\\')[-1].split('.')[0]\n",
    "    # Esto con el fin de controlar en que estacion va\n",
    "    print(nombre_estacion)\n",
    "    # Se abre el df\n",
    "    df = pd.read_csv(archivo,\n",
    "                     index_col='Fecha',\n",
    "                     usecols=['Fecha','valor'],\n",
    "                     parse_dates=['Fecha'])\n",
    "    \n",
    "    # Se define una lista vacia que almacena\n",
    "    # los eventos con diferentes MIT \n",
    "\n",
    "    dfs_mit = []\n",
    "    # Ciclo anidado que extrae las tormentas\n",
    "    for umbral_mit in mit:\n",
    "        # Esto con el fin de controlar el mit\n",
    "        print(umbral_mit)\n",
    "        # Se crea una copia para no sobreescribir el archivo\n",
    "        df_copia = df.copy()\n",
    "        # Se extraen las tormenta\n",
    "        df_tormenta = tormentas(df_copia,umbral_mit)\n",
    "        # Se guarda el identificador del mit\n",
    "        df_tormenta['mit'] = umbral_mit\n",
    "        #Se almacenan los resultados en la lista\n",
    "        dfs_mit.append(df_tormenta)\n",
    "    #Concatena las tormentas\n",
    "    df_tormenta_concat = pd.concat(dfs_mit,axis=0)\n",
    "    # nombre archivo\n",
    "    \n",
    "    nombre_archivo = nombre_estacion + '.csv'\n",
    "    # creacion de la carpeta nueva\n",
    "    path_carpeta_nueva = os.path.join(path_guardado, nombre_estacion)\n",
    "    os.makedirs(path_carpeta_nueva)\n",
    "    # ruta almacenamiento archivo\n",
    "    path_csv_tormenta = os.path.join(path_carpeta_nueva,nombre_archivo)\n",
    "    #Almacenamiento de datos:\n",
    "    df_tormenta_concat.to_csv(path_csv_tormenta)\n",
    "    print(f'guardado completo estacion {nombre_estacion}')"
   ]
  },
  {
   "cell_type": "markdown",
   "metadata": {},
   "source": [
    "## Analisis de resultados \n",
    "se extraen las variables descriptoras de los eventos de tormenta"
   ]
  },
  {
   "cell_type": "code",
   "execution_count": 4,
   "metadata": {},
   "outputs": [],
   "source": [
    "def variables_tormenta(df:pd.DataFrame, path:str) -> pd.DataFrame:\n",
    "\n",
    "    eventos = df['Evento'].unique()\n",
    "    # Se elimnan los eventos 0\n",
    "    mask = eventos != 0\n",
    "    eventos_limpios = eventos[mask]\n",
    "\n",
    "    #Dataframe de almacenamiento de datos\n",
    "    df_vars = dict()\n",
    "    for evento in eventos_limpios:\n",
    "\n",
    "        df_evento = df[df['Evento'] == evento]\n",
    "\n",
    "        # Se desechan eventos \n",
    "        # con con un solo dato\n",
    "        if len(df_evento) <= 1:\n",
    "            continue\n",
    "        # Crea la llave para el evento\n",
    "        df_vars[evento] = []\n",
    "\n",
    "        # Fecha cuando inicial el evento\n",
    "        fecha_evento = df_evento.index[0]\n",
    "        fecha_siguiente = df_evento.index[1]\n",
    "        fecha_final = df_evento.index[-1]\n",
    "\n",
    "        # Duracion\n",
    "        duracion = fecha_final - fecha_evento\n",
    "        duracion_evento = duracion.total_seconds()/60\n",
    "        #delta t\n",
    "        delta = fecha_siguiente - fecha_evento\n",
    "        delta_t = delta.total_seconds()/60\n",
    "        # Precipitacion acumulada/ Intensidad media\n",
    "        pptn_acumulada = df_evento['valor'].sum()\n",
    "        intensidad_media = pptn_acumulada/duracion_evento\n",
    "        # Intensidad maxima\n",
    "        df_evento = df_evento.copy()\n",
    "        df_evento.loc[:,'pptn_acum'] = df_evento['valor'].cumsum()\n",
    "        df_evento.loc[:,'intensidad'] = df_evento['pptn_acum'].diff()/delta_t\n",
    "        i_max = df_evento['intensidad'].max()\n",
    "\n",
    "        # Almacenamiento de variables\n",
    "        df_vars[evento].append(fecha_evento)\n",
    "        df_vars[evento].append(duracion_evento)\n",
    "        df_vars[evento].append(pptn_acumulada)\n",
    "        df_vars[evento].append(intensidad_media)\n",
    "        df_vars[evento].append(i_max)\n",
    "\n",
    "    columnas = ['fecha_evento','duracion','pptn_acumulada',\n",
    "                'intensidad_media','intensidad_maxima']\n",
    "\n",
    "    df_variables = pd.DataFrame(df_vars,index = columnas).T\n",
    "\n",
    "    # Guardado de resultados\n",
    "\n",
    "    df_variables.to_csv(path)"
   ]
  },
  {
   "cell_type": "code",
   "execution_count": 59,
   "metadata": {},
   "outputs": [],
   "source": [
    "fecha_evento = pd.to_datetime('1991-01-01 15:00')\n",
    "fecha_siguiente = pd.to_datetime('1991-01-01 15:00')\n",
    "fecha_final = pd.to_datetime('1991-01-01 15:15')\n",
    "# Duracion\n",
    "duracion = fecha_final - fecha_evento\n",
    "duracion_evento = duracion.total_seconds()/60"
   ]
  },
  {
   "cell_type": "code",
   "execution_count": 5,
   "metadata": {},
   "outputs": [],
   "source": [
    "path_carpeta_ppal = r'G:\\Mi unidad\\HME\\codigo\\tormentas'\n",
    "estaciones = files(path_carpeta_ppal)"
   ]
  },
  {
   "cell_type": "code",
   "execution_count": 24,
   "metadata": {},
   "outputs": [
    {
     "name": "stdout",
     "output_type": "stream",
     "text": [
      "Guardando estación Vasconia...\n",
      "Guardando estación Villa Hermosa...\n",
      "Guardando estación Santa Barbara...\n",
      "Guardando estación San Pedro...\n",
      "Guardando estación San Bernardo...\n",
      "Guardando estación San Cristobal...\n",
      "Guardando estación Pabon...\n",
      "Guardando estación Rionegro La Macarena...\n",
      "Guardando estación San Antonio de Prado...\n",
      "Guardando estación Montañitas...\n",
      "Guardando estación Miraflores...\n",
      "Guardando estación Medina...\n",
      "Guardando estación Mesopotamia...\n",
      "Guardando estación Mazo...\n",
      "Guardando estación La Teresita...\n",
      "Guardando estación La Severa...\n",
      "Guardando estación Las Palmas...\n",
      "Guardando estación La Palmera...\n",
      "Guardando estación La Pladera...\n",
      "Guardando estación Haiton...\n",
      "Guardando estación La Mosca...\n",
      "Guardando estación El Pital...\n",
      "Guardando estación Fabricato...\n",
      "Guardando estación El Sireno...\n",
      "Guardando estación El Mango...\n",
      "Guardando estación El Gomez...\n",
      "Guardando estación El Chaquiro...\n",
      "Guardando estación El Bizcocho...\n",
      "Guardando estación Corrientes...\n",
      "Guardando estación Caldas...\n",
      "Guardando estación Chorrillos...\n",
      "Guardando estación Ayura...\n",
      "Guardando estación Aragon...\n",
      "Guardando estación Alto San Andres...\n"
     ]
    }
   ],
   "source": [
    "# Extracciones de variables descriptoras\n",
    "path_guardado_estacion = r'G:\\Mi unidad\\HME\\codigo\\vars_descriptoras'\n",
    "for path_estacion in estaciones:\n",
    "    \n",
    "    #Lectura de datos\n",
    "    archivo = files(path_estacion)[0]\n",
    "\n",
    "    df = pd.read_csv(archivo, usecols = ['Fecha','valor','Evento'],\n",
    "                                        index_col='Fecha',\n",
    "                                        parse_dates=['Fecha'])\n",
    "    \n",
    "    # path de guardado de los datos\n",
    "    nombre_estacion = path_estacion.split('\\\\')[-1]\n",
    "    nombre_gaurdado = f'vars_descriptoras_{nombre_estacion}.csv'\n",
    "    path_guardado = os.path.join(path_guardado_estacion, nombre_gaurdado)\n",
    "\n",
    "    # Extraccion de tormentas\n",
    "    print(f'Guardando estación {nombre_estacion}...')\n",
    "    variables_tormenta(df,path_guardado)\n",
    "\n",
    "    \n",
    "    "
   ]
  },
  {
   "cell_type": "code",
   "execution_count": 12,
   "metadata": {},
   "outputs": [
    {
     "name": "stdout",
     "output_type": "stream",
     "text": [
      "Guardando Vasconia.csv...\n",
      "Guardando Villa Hermosa.csv...\n",
      "Guardando Santa Barbara.csv...\n",
      "Guardando San Pedro.csv...\n",
      "Guardando San Bernardo.csv...\n",
      "Guardando San Cristobal.csv...\n",
      "Guardando Pabon.csv...\n",
      "Guardando Rionegro La Macarena.csv...\n",
      "Guardando San Antonio de Prado.csv...\n",
      "Guardando Montañitas.csv...\n",
      "Guardando Miraflores.csv...\n",
      "Guardando Medina.csv...\n",
      "Guardando Mesopotamia.csv...\n",
      "Guardando Mazo.csv...\n",
      "Guardando La Teresita.csv...\n",
      "Guardando La Severa.csv...\n",
      "Guardando Las Palmas.csv...\n",
      "Guardando La Palmera.csv...\n",
      "Guardando La Pladera.csv...\n",
      "Guardando Haiton.csv...\n",
      "Guardando La Mosca.csv...\n",
      "Guardando El Pital.csv...\n",
      "Guardando Fabricato.csv...\n",
      "Guardando El Sireno.csv...\n",
      "Guardando El Mango.csv...\n",
      "Guardando El Gomez.csv...\n",
      "Guardando El Chaquiro.csv...\n",
      "Guardando El Bizcocho.csv...\n",
      "Guardando Corrientes.csv...\n",
      "Guardando Caldas.csv...\n",
      "Guardando Chorrillos.csv...\n",
      "Guardando Ayura.csv...\n",
      "Guardando Aragon.csv...\n",
      "Guardando Alto San Andres.csv...\n"
     ]
    }
   ],
   "source": [
    "path_etiquetados = r'G:\\Mi unidad\\HME\\codigo\\datos_epm_etiquetados'\n",
    "path_variables = r'G:\\Mi unidad\\HME\\codigo\\vars_descriptoras'\n",
    "path_guardado = r'G:\\Mi unidad\\HME\\codigo\\vars_descriptoras_etiquetadas'\n",
    "files_etiquetados = files(path_etiquetados)\n",
    "\n",
    "for file_etiquetado in files_etiquetados:\n",
    "\n",
    "    nombre = file_etiquetado.split('\\\\')[-1]\n",
    "    nombre_archivo_vars = f'vars_descriptoras_{nombre}'\n",
    "    path_archivo_var = os.path.join(path_variables, nombre_archivo_vars)\n",
    "\n",
    "    # Lectura de dataframes\n",
    "    df_var = pd.read_csv(path_archivo_var,\n",
    "                         index_col='fecha_evento',\n",
    "                     parse_dates=['fecha_evento'])\n",
    "\n",
    "    df_etiqueta = pd.read_csv(file_etiquetado,\n",
    "                              index_col='Fecha',\n",
    "                              parse_dates=['Fecha'])\n",
    "    \n",
    "    # Mascara con la cual se filtra el dataframe de etiquetas\n",
    "    mascara = df_etiqueta.index.isin(df_var.index)\n",
    "    df_filtrado = df_etiqueta[mascara]\n",
    "    # Solo se mantienen las columnas de etiquetas\n",
    "    df_slice = df_filtrado.iloc[:,1:]\n",
    "    # Se unen los dataframes\n",
    "    df_concat = df_var.merge(df_slice, left_index=True,\n",
    "                            right_index=True, how=\"outer\")\n",
    "\n",
    "    # Nombres de los archivos\n",
    "    nombre_guardado = f'vars_etiquetas_{nombre}.csv'\n",
    "    path_guardado_estacion = os.path.join(path_guardado,\n",
    "                                          nombre_guardado)\n",
    "    \n",
    "    print(f'Guardando {nombre}...')\n",
    "    df_concat.to_csv(path_guardado_estacion)"
   ]
  },
  {
   "cell_type": "markdown",
   "metadata": {},
   "source": [
    "### Analisis de los datos etiquetados "
   ]
  },
  {
   "cell_type": "code",
   "execution_count": 6,
   "metadata": {},
   "outputs": [],
   "source": [
    "import analisis_tormentas as at\n",
    "path_vars_etiquetadas = r'G:\\Mi unidad\\HME\\codigo\\vars_descriptoras_etiquetadas'\n",
    "archivos_analisis = files(path_vars_etiquetadas)"
   ]
  },
  {
   "cell_type": "code",
   "execution_count": 7,
   "metadata": {},
   "outputs": [],
   "source": [
    "dic_variables = {'pptn_acumulada':'Precipitación acumumulada (mm)',\n",
    "                'intensidad_media':'Intensidad media (mm/min)',\n",
    "                'intensidad_maxima':'Máxima intensidad (mm/min)',}\n"
   ]
  },
  {
   "cell_type": "code",
   "execution_count": 8,
   "metadata": {},
   "outputs": [],
   "source": [
    "import re\n",
    "def nombre_estacion(path:str) -> str:\n",
    "    # Expresión regular mejorada\n",
    "    match = re.search(r'_([^_]+)\\.csv(?=\\.[^.]*$)', path)\n",
    "    nombre = match.group(1)\n",
    "\n",
    "    return nombre\n"
   ]
  },
  {
   "cell_type": "code",
   "execution_count": 9,
   "metadata": {},
   "outputs": [],
   "source": [
    "path_guardado = r'G:\\Mi unidad\\HME\\codigo\\figuras\\relaciones_potenciales'\n",
    "\n",
    "for archivo_analisis in archivos_analisis:\n",
    "\n",
    "    df_analisis = pd.read_csv(archivo_analisis,\n",
    "                              index_col='fecha_evento',\n",
    "                              parse_dates=['fecha_evento'])\n",
    "    \n",
    "    # Se filtran los eventos para mantener \n",
    "    # aquellos con pptn acumulada > 10.0\n",
    "\n",
    "    umbral_pptn = 10.0\n",
    "    df_filtrado = df_analisis[df_analisis['pptn_acumulada']>umbral_pptn].copy()\n",
    "    \n",
    "    #Extrae el nombre de la estacion\n",
    "    estacion = nombre_estacion(archivo_analisis)\n",
    "\n",
    "    for var, label_var in dic_variables.items():\n",
    "        nombre_guardado = f'{estacion}.png'\n",
    "        path_almacenamiento = os.path.join(path_guardado,var,\n",
    "                                           nombre_guardado)\n",
    "        # Se inicia la clase\n",
    "        analisis_tormentas = at.tormenta(df_filtrado,estacion,'')\n",
    "\n",
    "        # Se generan figuras\n",
    "        analisis_tormentas.plots(var,label_var,\n",
    "                                 path_almacenamiento)\n",
    "\n"
   ]
  },
  {
   "cell_type": "code",
   "execution_count": 7,
   "metadata": {},
   "outputs": [],
   "source": [
    "df_prueba = pd.read_csv(archivos_analisis[0],\n",
    "                        index_col='fecha_evento',\n",
    "                        parse_dates=['fecha_evento'])"
   ]
  },
  {
   "cell_type": "code",
   "execution_count": 8,
   "metadata": {},
   "outputs": [],
   "source": [
    "df_filtro = df_prueba[df_prueba['pptn_acumulada']>=10.0]\n",
    "tormenta = at.tormenta(df_filtro,'','')\n",
    "nino, nina, neutro = tormenta.intensidad()"
   ]
  },
  {
   "cell_type": "code",
   "execution_count": 52,
   "metadata": {},
   "outputs": [],
   "source": [
    "# tormenta.plot_intensidad_10()\n",
    "# tormenta.plot_intensidad_90()\n",
    "# tormenta.plot_intensidad_10_mjo()"
   ]
  },
  {
   "cell_type": "markdown",
   "metadata": {},
   "source": [
    "#### Analisis con todas las tormentas"
   ]
  },
  {
   "cell_type": "code",
   "execution_count": 16,
   "metadata": {},
   "outputs": [],
   "source": [
    "lista_eventos = list()\n",
    "umbral_pptn = 0\n",
    "for archivo in archivos_analisis:\n",
    "\n",
    "    df = pd.read_csv(archivo, index_col=['fecha_evento'], \n",
    "                     parse_dates=['fecha_evento'])\n",
    "    \n",
    "    df_filtro = df[df['pptn_acumulada']>umbral_pptn]\n",
    "    lista_eventos.append(df_filtro)\n",
    "\n",
    "df_eventos = pd.concat(lista_eventos,axis=0)"
   ]
  },
  {
   "cell_type": "code",
   "execution_count": 17,
   "metadata": {},
   "outputs": [],
   "source": [
    "# Extraccion numero de eventos\n",
    "pptn_acumulada = [0.1,0.5,1,2,3,5,10,20,30,50,100]\n",
    "nro_eventos = []\n",
    "\n",
    "for pptn in pptn_acumulada:\n",
    "\n",
    "    df = df_eventos[df_eventos['pptn_acumulada']>=pptn]\n",
    "    nro_eventos.append(len(df))"
   ]
  },
  {
   "cell_type": "code",
   "execution_count": 36,
   "metadata": {},
   "outputs": [
    {
     "data": {
      "image/png": "[encoded data removed]",
      "text/plain": [
       "<Figure size 1000x400 with 1 Axes>"
      ]
     },
     "metadata": {},
     "output_type": "display_data"
    }
   ],
   "source": [
    "plt.figure(figsize=(10,4))\n",
    "\n",
    "plt.plot(pptn_acumulada,nro_eventos,color='black',)\n",
    "plt.title('Precipitación acumulada vs número de eventos',\n",
    "          fontsize=13,weight='bold')\n",
    "plt.ylabel('Número de eventos',fontsize=12)\n",
    "plt.xlabel('Precipitación acumulada [mm]',fontsize=12)\n",
    "plt.axvline(5,linestyle='--',color='red',linewidth=1)\n",
    "\n",
    "plt.grid()"
   ]
  },
  {
   "cell_type": "code",
   "execution_count": 52,
   "metadata": {},
   "outputs": [
    {
     "data": {
      "text/plain": [
       "758.2325662617874"
      ]
     },
     "execution_count": 52,
     "metadata": {},
     "output_type": "execute_result"
    }
   ],
   "source": [
    "np.mean(df_eventos_v1['duracion'])"
   ]
  },
  {
   "cell_type": "code",
   "execution_count": 37,
   "metadata": {},
   "outputs": [],
   "source": [
    "df_eventos_v1 = df_eventos[df_eventos['pptn_acumulada']>=5]"
   ]
  },
  {
   "cell_type": "code",
   "execution_count": 38,
   "metadata": {},
   "outputs": [],
   "source": [
    "eventos = at.tormenta(df_eventos_v1,'','')"
   ]
  },
  {
   "cell_type": "code",
   "execution_count": 99,
   "metadata": {},
   "outputs": [
    {
     "name": "stderr",
     "output_type": "stream",
     "text": [
      "g:\\Mi unidad\\HME\\codigo\\analisis_tormentas.py:363: SyntaxWarning: invalid escape sequence '\\m'\n",
      "  plt.plot(x_fit,y_fit,color,\n",
      "g:\\Mi unidad\\HME\\codigo\\analisis_tormentas.py:462: SyntaxWarning: invalid escape sequence '\\m'\n",
      "  label=label_ajuste,linestyle='--',alpha=0.0)\n",
      "No artists with labels found to put in legend.  Note that artists whose label start with an underscore are ignored when legend() is called with no argument.\n",
      "No artists with labels found to put in legend.  Note that artists whose label start with an underscore are ignored when legend() is called with no argument.\n",
      "No artists with labels found to put in legend.  Note that artists whose label start with an underscore are ignored when legend() is called with no argument.\n"
     ]
    }
   ],
   "source": [
    "dic_variables = {'pptn_acumulada':'Precipitación acumumulada (mm)',\n",
    "                'intensidad_media':'Intensidad media (mm/min)',\n",
    "                'intensidad_maxima':'Máxima intensidad (mm/min)',}\n",
    "path_guardado = r'G:\\Mi unidad\\HME\\codigo\\figuras\\presentacion'\n",
    "\n",
    "for var,y_label in dic_variables.items():\n",
    "    nombre_guardado = os.path.join(path_guardado,var)\n",
    "    eventos.plots(var,y_label,nombre_guardado)"
   ]
  },
  {
   "cell_type": "code",
   "execution_count": 83,
   "metadata": {},
   "outputs": [
    {
     "name": "stderr",
     "output_type": "stream",
     "text": [
      "g:\\Mi unidad\\HME\\codigo\\analisis_tormentas.py:360: SyntaxWarning: invalid escape sequence '\\m'\n",
      "  plt.xlabel('Duracion[mm]/($\\miu$[mm])',fontsize=13)\n",
      "g:\\Mi unidad\\HME\\codigo\\analisis_tormentas.py:459: SyntaxWarning: invalid escape sequence '\\m'\n",
      "  \n"
     ]
    },
    {
     "data": {
      "image/png": "[encoded data removed]",
      "text/plain": [
       "<Figure size 1200x400 with 1 Axes>"
      ]
     },
     "metadata": {},
     "output_type": "display_data"
    }
   ],
   "source": [
    "eventos.plot_intensidad_10_mjo()"
   ]
  },
  {
   "cell_type": "code",
   "execution_count": 103,
   "metadata": {},
   "outputs": [
    {
     "data": {
      "image/png": "[encoded data removed]",
      "text/plain": [
       "<Figure size 1500x500 with 4 Axes>"
      ]
     },
     "metadata": {},
     "output_type": "display_data"
    }
   ],
   "source": [
    "eventos.hist_plot_enso()"
   ]
  },
  {
   "cell_type": "code",
   "execution_count": 11,
   "metadata": {},
   "outputs": [
    {
     "data": {
      "image/png": "[encoded data removed]",
      "text/plain": [
       "<Figure size 1200x400 with 1 Axes>"
      ]
     },
     "metadata": {},
     "output_type": "display_data"
    }
   ],
   "source": [
    "eventos.plot_intensidad_10()"
   ]
  },
  {
   "cell_type": "code",
   "execution_count": null,
   "metadata": {},
   "outputs": [],
   "source": []
  },
  {
   "cell_type": "code",
   "execution_count": 17,
   "metadata": {},
   "outputs": [
    {
     "data": {
      "text/plain": [
       "[<matplotlib.lines.Line2D at 0x1ffddc01ac0>]"
      ]
     },
     "execution_count": 17,
     "metadata": {},
     "output_type": "execute_result"
    },
    {
     "data": {
      "image/png": "[encoded data removed]",
      "text/plain": [
       "<Figure size 640x480 with 1 Axes>"
      ]
     },
     "metadata": {},
     "output_type": "display_data"
    }
   ],
   "source": [
    "# Crea array con los datos de interes\n",
    "df = df_eventos[df_eventos['duracion']==15]\n",
    "var = np.array(df['intensidad_media'])\n",
    "# Crea dataframe\n",
    "df_analisis = pd.DataFrame({'variable': var})\n",
    "# Estimacion excedencia\n",
    "df_sort = df_analisis.sort_values(by='variable',\n",
    "                                 ascending=False).reset_index(drop=True)\n",
    "        \n",
    "df_sort['Excedencia'] = (df_sort.index + 1)/(len(df_sort) + 1)*100\n",
    "\n",
    "q_10 = np.interp(10, df_sort['Excedencia'], df_sort['variable'])\n",
    "q_90 = np.interp(90, df_sort['Excedencia'], df_sort['variable'])\n",
    "\n",
    "plt.plot(df_sort['Excedencia'], df_sort['variable'])\n"
   ]
  },
  {
   "cell_type": "code",
   "execution_count": 101,
   "metadata": {},
   "outputs": [
    {
     "data": {
      "text/plain": [
       "Index(['Unnamed: 0', 'duracion', 'pptn_acumulada', 'intensidad_media',\n",
       "       'intensidad_maxima', 'enso_phase', 'phase', 'amplitude'],\n",
       "      dtype='object')"
      ]
     },
     "execution_count": 101,
     "metadata": {},
     "output_type": "execute_result"
    }
   ],
   "source": [
    "df_eventos.columns"
   ]
  },
  {
   "cell_type": "code",
   "execution_count": 135,
   "metadata": {},
   "outputs": [],
   "source": [
    "df_log = df_eventos.copy()\n",
    "df_log['log_duracion'] = np.log(df_log['duracion'])"
   ]
  }
 ],
 "metadata": {
  "kernelspec": {
   "display_name": "cds",
   "language": "python",
   "name": "python3"
  },
  "language_info": {
   "codemirror_mode": {
    "name": "ipython",
    "version": 3
   },
   "file_extension": ".py",
   "mimetype": "text/x-python",
   "name": "python",
   "nbconvert_exporter": "python",
   "pygments_lexer": "ipython3",
   "version": "3.12.4"
  }
 },
 "nbformat": 4,
 "nbformat_minor": 2
}
